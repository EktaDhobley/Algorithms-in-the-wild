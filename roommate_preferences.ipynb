{
 "cells": [
  {
   "cell_type": "code",
   "execution_count": 1,
   "metadata": {},
   "outputs": [],
   "source": [
    "import pandas as pd\n",
    "import numpy as np\n",
    "import random\n",
    "import itertools"
   ]
  },
  {
   "cell_type": "markdown",
   "metadata": {},
   "source": [
    "### Load the student dataset"
   ]
  },
  {
   "cell_type": "code",
   "execution_count": 2,
   "metadata": {},
   "outputs": [],
   "source": [
    "path = 'data/student_data/final_student_merged_datasetA.csv'\n",
    "df = pd.read_csv(path, index_col = False)"
   ]
  },
  {
   "cell_type": "code",
   "execution_count": 3,
   "metadata": {},
   "outputs": [],
   "source": [
    "ug_df = df.iloc[:4746,].reset_index(drop=True)\n",
    "grad_df = df.loc[4746:,].reset_index(drop=True)"
   ]
  },
  {
   "cell_type": "code",
   "execution_count": 4,
   "metadata": {},
   "outputs": [],
   "source": [
    "def generate_pairings(df, overlap_ratio):\n",
    "    n = int(df.shape[0]*overlap_ratio) #Number of students we wish to match\n",
    "    m = 3 #Number of members in a team\n",
    "    b = []\n",
    "    temp = []\n",
    "    final_teams = []\n",
    "    teams = []\n",
    "    flag = 0\n",
    "    for i in range(1,n+1):\n",
    "        b.append(i)\n",
    "    temp = b.copy()\n",
    "    while True:\n",
    "        if(len(temp)<m and flag==m):\n",
    "            if teams not in final_teams:\n",
    "                final_teams.append(teams)\n",
    "            if len(temp) != 0:\n",
    "                final_teams.append(temp)\n",
    "            break\n",
    "        if(flag<=m-1):\n",
    "            randp = random.randint(1,n)\n",
    "            if(randp in temp):\n",
    "                temp.remove(randp)\n",
    "                teams.append(randp)\n",
    "                flag += 1\n",
    "                continue\n",
    "            elif(randp not in temp):\n",
    "                continue\n",
    "        elif(flag == m):\n",
    "            final_teams.append(teams)\n",
    "            flag = 0\n",
    "            teams = []\n",
    "            continue\n",
    "        else:\n",
    "            print(\"Error\")\n",
    "            break\n",
    "    return final_teams"
   ]
  },
  {
   "cell_type": "code",
   "execution_count": 5,
   "metadata": {},
   "outputs": [],
   "source": [
    "def get_overlap_ratio(pref_dict, overlap_ratio):    \n",
    "    matched_set = set()\n",
    "    for k,v in pref_dict.items():\n",
    "        for room_pref in v:\n",
    "            if k in pref_dict[room_pref]:\n",
    "                matched_set.update([k,room_pref])\n",
    "    return len(matched_set)/len(pref_dict)"
   ]
  },
  {
   "cell_type": "code",
   "execution_count": 6,
   "metadata": {},
   "outputs": [],
   "source": [
    "def roommate_preferences(data, overlap_ratio):\n",
    "    df = data.copy(deep = True)\n",
    "    df['roommate_preferences'] = np.empty((len(df), 0)).tolist()\n",
    "    final_pairings = generate_pairings(df,overlap_ratio)\n",
    "    for pairing in final_pairings:\n",
    "        try:\n",
    "            a, b, c = pairing[0], pairing[1], pairing[2]\n",
    "            a_ruid , b_ruid, c_ruid = df.loc[a,\"RUID\"], df.loc[b,\"RUID\"], df.loc[c,\"RUID\"]\n",
    "            df.loc[a,'roommate_preferences'].extend([b_ruid,c_ruid])\n",
    "            df.loc[b,'roommate_preferences'].extend([a_ruid, c_ruid])\n",
    "            df.loc[c,'roommate_preferences'].extend([b_ruid])\n",
    "        except:\n",
    "            pass\n",
    "    print(f\"Overlap Ratio obtained is {get_overlap_ratio(dict(zip(df.RUID, df.roommate_preferences)),overlap_ratio)} vs the desired {overlap_ratio}\")\n",
    "    return df"
   ]
  },
  {
   "cell_type": "code",
   "execution_count": 7,
   "metadata": {},
   "outputs": [
    {
     "name": "stdout",
     "output_type": "stream",
     "text": [
      "Overlap Ratio obtained is 0.7496839443742098 vs the desired 0.75\n",
      "Overlap Ratio obtained is 0.75 vs the desired 0.75\n"
     ]
    }
   ],
   "source": [
    "ug_df_with_pref = roommate_preferences(ug_df, 0.75)\n",
    "grad_df_with_pref = roommate_preferences(grad_df, 0.75)"
   ]
  },
  {
   "cell_type": "code",
   "execution_count": 8,
   "metadata": {},
   "outputs": [],
   "source": [
    "final_student_merged_dataset_A = pd.concat([ug_df_with_pref,grad_df_with_pref], ignore_index=True)"
   ]
  },
  {
   "cell_type": "code",
   "execution_count": 11,
   "metadata": {},
   "outputs": [],
   "source": [
    "final_student_merged_dataset_A.to_csv('data/student_data/datasetA_with_roommate_pref.csv', index = False)"
   ]
  }
 ],
 "metadata": {
  "kernelspec": {
   "display_name": "Python 3.9.6 64-bit",
   "language": "python",
   "name": "python3"
  },
  "language_info": {
   "codemirror_mode": {
    "name": "ipython",
    "version": 3
   },
   "file_extension": ".py",
   "mimetype": "text/x-python",
   "name": "python",
   "nbconvert_exporter": "python",
   "pygments_lexer": "ipython3",
   "version": "3.9.6"
  },
  "orig_nbformat": 4,
  "vscode": {
   "interpreter": {
    "hash": "31f2aee4e71d21fbe5cf8b01ff0e069b9275f58929596ceb00d14d90e3e16cd6"
   }
  }
 },
 "nbformat": 4,
 "nbformat_minor": 2
}
