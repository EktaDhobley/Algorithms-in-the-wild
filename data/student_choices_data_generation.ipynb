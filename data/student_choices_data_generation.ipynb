{
 "cells": [
  {
   "cell_type": "code",
   "execution_count": 1,
   "metadata": {},
   "outputs": [],
   "source": [
    "# This notebook contains the code used to generate students dataset, if needed can be easily translated to a scipt where parameters can be entered to generate different versions of the datasets"
   ]
  },
  {
   "cell_type": "code",
   "execution_count": 2,
   "metadata": {},
   "outputs": [],
   "source": [
    "import pandas as pd\n",
    "import numpy as np\n",
    "import random\n",
    "from faker import Faker\n",
    "from random import randint"
   ]
  },
  {
   "cell_type": "markdown",
   "metadata": {},
   "source": [
    "### Creating Student Dataset"
   ]
  },
  {
   "cell_type": "code",
   "execution_count": 3,
   "metadata": {},
   "outputs": [],
   "source": [
    "undergrad_min_age, undergrad_max_age = 17,22\n",
    "undergrad_low_income_frac  = 0.3\n",
    "undergrad_accessibility_frac = 0.05\n",
    "\n",
    "undergrad_year_dict = {\n",
    "    'Freshman' : 0.4, \n",
    "    'Sophomore' : 0.3, \n",
    "    'Junior' : 0.2, \n",
    "    'Senior' : 0.1\n",
    "    }\n",
    "\n",
    "undergrad_school_dict = {\n",
    "    'Edward J. Bloustein School of Planning and Public Policy' : 0.05,\n",
    "    'Mason Gross School of the Arts': 0.1,\n",
    "    'Rutgers Business School–Newark and New Brunswick' : 0.1,\n",
    "    'School of Arts and Sciences' : 0.4, #most students(undergrad)\n",
    "    'School of Communication and Information': 0.1,\n",
    "    'School of Engineering': 0.1,\n",
    "    'School of Environmental and Biological Sciences': 0.05,\n",
    "    'School of Management and Labor Relations' : 0.05,\n",
    "    'School of Social Work': 0.05\n",
    "    }"
   ]
  },
  {
   "cell_type": "code",
   "execution_count": 4,
   "metadata": {},
   "outputs": [],
   "source": [
    "grad_year_dict ={\n",
    "    'Masters' : 0.5,\n",
    "    'Doctorate' : 0.4,\n",
    "    'Postdoctoral studies' : 0.1,\n",
    "}\n",
    "\n",
    "grad_school_dict = {\n",
    "    'Graduate School of Applied and Professional Psychology' : 0.1, #grad school\n",
    "    'Graduate School of Education' : 0.2, #grad school\n",
    "    'School of Graduate Studies': 0.7 #mostly grad\n",
    "    }\n",
    "\n",
    "grad_min_age, grad_max_age = 22,28\n",
    "grad_low_income_frac = 0.3\n",
    "grad_accessibility_frac = 0.05"
   ]
  },
  {
   "cell_type": "markdown",
   "metadata": {},
   "source": [
    "#### Analysis before creating the dataset"
   ]
  },
  {
   "cell_type": "code",
   "execution_count": 5,
   "metadata": {},
   "outputs": [],
   "source": [
    "url = 'https://raw.githubusercontent.com/EktaDhobley/Algorithms-in-the-wild/main/data/rooms_data/final_data.csv'\n",
    "rooms_data = pd.read_csv(url, index_col = False)"
   ]
  },
  {
   "cell_type": "code",
   "execution_count": 6,
   "metadata": {},
   "outputs": [],
   "source": [
    "grad_hall_ids = ['BA','JA']"
   ]
  },
  {
   "cell_type": "code",
   "execution_count": 7,
   "metadata": {},
   "outputs": [
    {
     "name": "stdout",
     "output_type": "stream",
     "text": [
      "The number of undergrad students we can house is 4746 \n",
      "The number of graduate students we can house is 584\n"
     ]
    }
   ],
   "source": [
    "#### Getting student count (no of students of each category we can house)\n",
    "ug_rooms_dataset = rooms_data.loc[~rooms_data.hall_id.isin(grad_hall_ids)]\n",
    "grad_rooms_dataset = rooms_data.loc[rooms_data.hall_id.isin(grad_hall_ids)]\n",
    "print(f\"The number of undergrad students we can house is {ug_rooms_dataset.shape[0]} \\nThe number of graduate students we can house is {grad_rooms_dataset.shape[0]}\")"
   ]
  },
  {
   "cell_type": "code",
   "execution_count": 8,
   "metadata": {},
   "outputs": [
    {
     "name": "stdout",
     "output_type": "stream",
     "text": [
      "---------- has_laundry ----------\n",
      "1    584\n",
      "Name: has_laundry, dtype: int64\n",
      "---------- floor_plan ----------\n",
      "Traditional Single    584\n",
      "Name: floor_plan, dtype: int64\n",
      "---------- residence_type ----------\n",
      "Apartment    584\n",
      "Name: residence_type, dtype: int64\n",
      "---------- hall_id ----------\n",
      "BA    384\n",
      "JA    200\n",
      "Name: hall_id, dtype: int64\n",
      "---------- has_private_bathroom ----------\n",
      "1    584\n",
      "Name: has_private_bathroom, dtype: int64\n",
      "---------- has_accessibility_ramps ----------\n",
      "0    584\n",
      "Name: has_accessibility_ramps, dtype: int64\n"
     ]
    }
   ],
   "source": [
    "#### Looking at the variables of interest among undergrad and gradauate housing\n",
    "variables_of_interest = ['has_laundry','floor_plan', 'residence_type', 'hall_id', 'has_private_bathroom', 'has_accessibility_ramps'] \n",
    "for x in variables_of_interest:\n",
    "    print(\"-\"*10,x,\"-\"*10)\n",
    "    print(grad_rooms_dataset[x].value_counts(dropna=False))"
   ]
  },
  {
   "cell_type": "code",
   "execution_count": 9,
   "metadata": {},
   "outputs": [
    {
     "name": "stdout",
     "output_type": "stream",
     "text": [
      "---------- has_laundry ----------\n",
      "1    4523\n",
      "0     223\n",
      "Name: has_laundry, dtype: int64\n",
      "---------- floor_plan ----------\n",
      "Traditional Double    4590\n",
      "Traditional Single     156\n",
      "Name: floor_plan, dtype: int64\n",
      "---------- residence_type ----------\n",
      "Suite                         2158\n",
      "Apartment                     1808\n",
      "Traditional Residence Hall     780\n",
      "Name: residence_type, dtype: int64\n",
      "---------- hall_id ----------\n",
      "BS     976\n",
      "NCA    640\n",
      "SA     640\n",
      "RA     528\n",
      "MS     282\n",
      "MH     223\n",
      "MZH    223\n",
      "CS     180\n",
      "JS     180\n",
      "MRS    180\n",
      "TS     180\n",
      "WS     180\n",
      "AH     167\n",
      "BH     167\n",
      "Name: hall_id, dtype: int64\n",
      "---------- has_private_bathroom ----------\n",
      "1    3966\n",
      "0     780\n",
      "Name: has_private_bathroom, dtype: int64\n",
      "---------- has_accessibility_ramps ----------\n",
      "0    3130\n",
      "1    1616\n",
      "Name: has_accessibility_ramps, dtype: int64\n"
     ]
    }
   ],
   "source": [
    "for x in variables_of_interest:\n",
    "    print(\"-\"*10,x,\"-\"*10)\n",
    "    print(ug_rooms_dataset[x].value_counts(dropna=False))"
   ]
  },
  {
   "cell_type": "code",
   "execution_count": 10,
   "metadata": {},
   "outputs": [],
   "source": [
    "def generate_student_dataset(number_of_students, year_dict, school_dict, accessibility_needs_frac, low_income_frac, min_age, max_age):\n",
    "    students = pd.DataFrame()\n",
    "    fake = Faker()\n",
    "    fake_students = [{'RUID':randint(10**(9-1), (10**9)-1),\n",
    "                    'student_profile':fake.profile(fields = ['name','sex']),\n",
    "                    'date_of_birth':fake.date_of_birth(minimum_age = min_age, maximum_age= max_age),\n",
    "                    'student_year':np.random.choice(list(year_dict.keys()), p=list(year_dict.values())),\n",
    "                    'student_school': np.random.choice(list(school_dict.keys()), p=list(school_dict.values()))\n",
    "                    } for x in range(number_of_students)]\n",
    "    student_df = pd.DataFrame(fake_students)\n",
    "    student_df = pd.concat([student_df['student_profile'].apply(pd.Series), student_df.drop(['student_profile'], axis=1)], axis=1)\n",
    "    student_df['accessibility_need'], student_df['low_income_status'] = 0,0\n",
    "    student_df.loc[student_df.sample(frac = accessibility_needs_frac).index,'accessibility_need'] = 1\n",
    "    student_df.loc[student_df.sample(frac = low_income_frac).index,'low_income_status'] = 1\n",
    "    return student_df"
   ]
  },
  {
   "cell_type": "code",
   "execution_count": 11,
   "metadata": {},
   "outputs": [],
   "source": [
    "undergrad_student_dataset = generate_student_dataset(number_of_students=4746, \n",
    "                                                     year_dict=undergrad_year_dict, \n",
    "                                                     school_dict=undergrad_school_dict,\n",
    "                                                     accessibility_needs_frac = undergrad_accessibility_frac, \n",
    "                                                     low_income_frac=undergrad_low_income_frac,\n",
    "                                                     min_age = undergrad_min_age,\n",
    "                                                     max_age = undergrad_max_age)"
   ]
  },
  {
   "cell_type": "code",
   "execution_count": 12,
   "metadata": {},
   "outputs": [],
   "source": [
    "grad_student_dataset = generate_student_dataset(number_of_students=584, \n",
    "                                                     year_dict=grad_year_dict, \n",
    "                                                     school_dict=grad_school_dict,\n",
    "                                                     accessibility_needs_frac = grad_accessibility_frac, \n",
    "                                                     low_income_frac=grad_low_income_frac,\n",
    "                                                     min_age = grad_min_age,\n",
    "                                                     max_age = grad_max_age)"
   ]
  },
  {
   "cell_type": "code",
   "execution_count": 13,
   "metadata": {},
   "outputs": [],
   "source": [
    "def check_valid_dataset(df, min_age, max_age, low_income_frac, accessibility_need_frac):\n",
    "    cond1 = df.duplicated().sum() == 0 #Check if there are any duplicate rows\n",
    "    cond2 = len(set(df['RUID'])) == df.shape[0] #Validate that RUIDs are unqiue\n",
    "    cond3 = all(ele >= min_age and ele <= max_age+1 for ele in list(2022 - pd.DatetimeIndex(df['date_of_birth']).year)) #check age distribution\n",
    "    cond4 = df['accessibility_need'].sum()/df.shape[0] == accessibility_need_frac #Validate accessibility_needs attribute\n",
    "    cond5 = df['low_income_status'].sum()/df.shape[0] == low_income_frac # Validate low_income_frac\n",
    "    display(df['student_year'].value_counts(normalize=True)) #Validate distribution of student_year\n",
    "    display(df['student_school'].value_counts(normalize=True)) #Validate distribution of student_school\n",
    "    if cond1 and cond2 and cond3 and cond4 and cond5:\n",
    "        return True\n",
    "    return False"
   ]
  },
  {
   "cell_type": "code",
   "execution_count": 14,
   "metadata": {},
   "outputs": [
    {
     "data": {
      "text/plain": [
       "Masters                 0.505137\n",
       "Doctorate               0.398973\n",
       "Postdoctoral studies    0.095890\n",
       "Name: student_year, dtype: float64"
      ]
     },
     "metadata": {},
     "output_type": "display_data"
    },
    {
     "data": {
      "text/plain": [
       "School of Graduate Studies                                0.708904\n",
       "Graduate School of Education                              0.179795\n",
       "Graduate School of Applied and Professional Psychology    0.111301\n",
       "Name: student_school, dtype: float64"
      ]
     },
     "metadata": {},
     "output_type": "display_data"
    }
   ],
   "source": [
    "check_valid_dataset(grad_student_dataset, grad_min_age, grad_max_age, grad_low_income_frac, grad_accessibility_frac)\n",
    "grad_student_dataset.to_csv('student_data/graduate_students_data.csv', index = False)"
   ]
  },
  {
   "cell_type": "code",
   "execution_count": 15,
   "metadata": {},
   "outputs": [
    {
     "data": {
      "text/plain": [
       "Freshman     0.393805\n",
       "Sophomore    0.300253\n",
       "Junior       0.203118\n",
       "Senior       0.102823\n",
       "Name: student_year, dtype: float64"
      ]
     },
     "metadata": {},
     "output_type": "display_data"
    },
    {
     "data": {
      "text/plain": [
       "School of Arts and Sciences                                 0.379267\n",
       "Mason Gross School of the Arts                              0.105141\n",
       "School of Communication and Information                     0.100927\n",
       "School of Engineering                                       0.100295\n",
       "Rutgers Business School–Newark and New Brunswick            0.098609\n",
       "School of Management and Labor Relations                    0.056469\n",
       "Edward J. Bloustein School of Planning and Public Policy    0.054994\n",
       "School of Environmental and Biological Sciences             0.052887\n",
       "School of Social Work                                       0.051412\n",
       "Name: student_school, dtype: float64"
      ]
     },
     "metadata": {},
     "output_type": "display_data"
    }
   ],
   "source": [
    "check_valid_dataset(undergrad_student_dataset, undergrad_min_age, undergrad_max_age, undergrad_low_income_frac, undergrad_accessibility_frac)\n",
    "undergrad_student_dataset.to_csv('student_data/undergrad_student_dataset.csv', index = False)"
   ]
  },
  {
   "cell_type": "markdown",
   "metadata": {},
   "source": [
    "### Generate Choices Dataset"
   ]
  },
  {
   "cell_type": "code",
   "execution_count": 16,
   "metadata": {},
   "outputs": [],
   "source": [
    "ug_hall_pref = rooms_data.loc[~rooms_data['hall_id'].isin(grad_hall_ids)]['hall_id'].value_counts(normalize=True, dropna=False).to_dict()\n",
    "ug_price_pref = rooms_data.loc[~rooms_data['hall_id'].isin(grad_hall_ids)]['price'].value_counts(bins = 3, dropna=False, normalize = True).to_dict()\n",
    "ug_residence_pref = rooms_data.loc[~rooms_data['hall_id'].isin(grad_hall_ids)]['residence_type'].value_counts(dropna=False, normalize = True).to_dict()"
   ]
  },
  {
   "cell_type": "code",
   "execution_count": 17,
   "metadata": {},
   "outputs": [],
   "source": [
    "ug_price_pref = {\n",
    "    '4000-6000': 0.26,\n",
    "    '6000-8000' : 0.20,\n",
    "    '8000-11000': 0.54\n",
    "}"
   ]
  },
  {
   "cell_type": "code",
   "execution_count": 18,
   "metadata": {},
   "outputs": [],
   "source": [
    "grad_hall_pref = rooms_data.loc[rooms_data['hall_id'].isin(grad_hall_ids)]['hall_id'].value_counts(normalize=True, dropna=False).to_dict()\n",
    "grad_price_pref = rooms_data.loc[rooms_data['hall_id'].isin(grad_hall_ids)]['price'].value_counts(bins = 2, dropna=False, normalize=True).to_dict()\n",
    "grad_residence_pref = rooms_data.loc[rooms_data['hall_id'].isin(grad_hall_ids)]['residence_type'].value_counts(dropna=False, normalize = True).to_dict()"
   ]
  },
  {
   "cell_type": "code",
   "execution_count": 19,
   "metadata": {},
   "outputs": [],
   "source": [
    "grad_price_pref = {\n",
    "    '9000-10500': 0.6,\n",
    "    '10500-12000': 0.4\n",
    "}"
   ]
  },
  {
   "cell_type": "code",
   "execution_count": 20,
   "metadata": {},
   "outputs": [],
   "source": [
    "# Code to creat choices for each student\n",
    "def generate_choices_dataset( df, hall_pref, price_pref, residence_pref, undergrad = False):\n",
    "    if undergrad:\n",
    "        n_choices = 3\n",
    "    else:\n",
    "        n_choices = 2\n",
    "    fake_choices = [{\n",
    "        'RUID':x,\n",
    "        'laundry_availibility':np.random.choice([0,1], p=[0.05,0.95]),\n",
    "        'is_single_preferred' : np.random.choice([0,1], p=[0,1]),\n",
    "        'is_private_bathroom_preferred' : np.random.choice([0,1], p=[0.1,0.9]),\n",
    "        'preferred_hall_ids':np.random.choice(list(hall_pref.keys()), n_choices, p=list(hall_pref.values()), replace=False),\n",
    "        'preferred_price_range' : np.random.choice(list(price_pref.keys()), p=list(price_pref.values())),\n",
    "        # 'max_price' : np.random.choice([8000, 9000, 10000, 11000], p= [0.1, 0.2, 0.3, 0.4]), #make dependent variable - leak informationf from preferred price_range\n",
    "        'preferred_residence_type' : np.random.choice(list(residence_pref.keys()), p=list(residence_pref.values()))\n",
    "        } for x in df['RUID']]\n",
    "    student_choices = pd.DataFrame(fake_choices)\n",
    "    student_choices['preferred_price_range'] = student_choices['preferred_price_range'].astype(str)\n",
    "    # student_choices = pd.concat([(student_choices.drop(['preferred_hall_id'], axis=1)),\n",
    "    #                               pd.DataFrame(student_choices[\"preferred_hall_id\"].to_list(), columns=['preferred_hall_id1', 'preferred_hall_id2'])], axis=1)\n",
    "    student_choices['max_price'] = student_choices.apply(lambda row: int(row.preferred_price_range.split('-')[1]) + 1000, axis=1)\n",
    "    student_choices = student_choices[['RUID','preferred_hall_ids', 'preferred_residence_type', 'is_single_preferred', 'is_private_bathroom_preferred', 'laundry_availibility','preferred_price_range', 'max_price']]\n",
    "    return student_choices"
   ]
  },
  {
   "cell_type": "code",
   "execution_count": 21,
   "metadata": {},
   "outputs": [],
   "source": [
    "grad_student_choices = generate_choices_dataset(grad_student_dataset, grad_hall_pref, grad_price_pref, grad_residence_pref)\n",
    "grad_student_choices.to_csv('student_data/grad_student_choices.csv', index = False)"
   ]
  },
  {
   "cell_type": "code",
   "execution_count": 22,
   "metadata": {},
   "outputs": [],
   "source": [
    "ug_student_choices = generate_choices_dataset(undergrad_student_dataset, ug_hall_pref, ug_price_pref, ug_residence_pref, undergrad=True)\n",
    "ug_student_choices.to_csv('student_data/ug_student_choices.csv', index = False)"
   ]
  },
  {
   "cell_type": "code",
   "execution_count": 23,
   "metadata": {},
   "outputs": [
    {
     "data": {
      "text/html": [
       "<div>\n",
       "<style scoped>\n",
       "    .dataframe tbody tr th:only-of-type {\n",
       "        vertical-align: middle;\n",
       "    }\n",
       "\n",
       "    .dataframe tbody tr th {\n",
       "        vertical-align: top;\n",
       "    }\n",
       "\n",
       "    .dataframe thead th {\n",
       "        text-align: right;\n",
       "    }\n",
       "</style>\n",
       "<table border=\"1\" class=\"dataframe\">\n",
       "  <thead>\n",
       "    <tr style=\"text-align: right;\">\n",
       "      <th></th>\n",
       "      <th>RUID</th>\n",
       "      <th>preferred_hall_ids</th>\n",
       "      <th>preferred_residence_type</th>\n",
       "      <th>is_single_preferred</th>\n",
       "      <th>is_private_bathroom_preferred</th>\n",
       "      <th>laundry_availibility</th>\n",
       "      <th>preferred_price_range</th>\n",
       "      <th>max_price</th>\n",
       "    </tr>\n",
       "  </thead>\n",
       "  <tbody>\n",
       "    <tr>\n",
       "      <th>0</th>\n",
       "      <td>876223223</td>\n",
       "      <td>[MS, AH, BS]</td>\n",
       "      <td>Suite</td>\n",
       "      <td>1</td>\n",
       "      <td>0</td>\n",
       "      <td>1</td>\n",
       "      <td>6000-8000</td>\n",
       "      <td>9000</td>\n",
       "    </tr>\n",
       "    <tr>\n",
       "      <th>1</th>\n",
       "      <td>933972546</td>\n",
       "      <td>[SA, MRS, BS]</td>\n",
       "      <td>Suite</td>\n",
       "      <td>1</td>\n",
       "      <td>1</td>\n",
       "      <td>1</td>\n",
       "      <td>4000-6000</td>\n",
       "      <td>7000</td>\n",
       "    </tr>\n",
       "    <tr>\n",
       "      <th>2</th>\n",
       "      <td>325269449</td>\n",
       "      <td>[BS, WS, RA]</td>\n",
       "      <td>Suite</td>\n",
       "      <td>1</td>\n",
       "      <td>0</td>\n",
       "      <td>1</td>\n",
       "      <td>4000-6000</td>\n",
       "      <td>7000</td>\n",
       "    </tr>\n",
       "    <tr>\n",
       "      <th>3</th>\n",
       "      <td>683623811</td>\n",
       "      <td>[BS, MRS, SA]</td>\n",
       "      <td>Apartment</td>\n",
       "      <td>1</td>\n",
       "      <td>1</td>\n",
       "      <td>1</td>\n",
       "      <td>8000-11000</td>\n",
       "      <td>12000</td>\n",
       "    </tr>\n",
       "    <tr>\n",
       "      <th>4</th>\n",
       "      <td>345819466</td>\n",
       "      <td>[RA, WS, MH]</td>\n",
       "      <td>Traditional Residence Hall</td>\n",
       "      <td>1</td>\n",
       "      <td>0</td>\n",
       "      <td>1</td>\n",
       "      <td>8000-11000</td>\n",
       "      <td>12000</td>\n",
       "    </tr>\n",
       "    <tr>\n",
       "      <th>...</th>\n",
       "      <td>...</td>\n",
       "      <td>...</td>\n",
       "      <td>...</td>\n",
       "      <td>...</td>\n",
       "      <td>...</td>\n",
       "      <td>...</td>\n",
       "      <td>...</td>\n",
       "      <td>...</td>\n",
       "    </tr>\n",
       "    <tr>\n",
       "      <th>4741</th>\n",
       "      <td>274830953</td>\n",
       "      <td>[BS, NCA, JS]</td>\n",
       "      <td>Apartment</td>\n",
       "      <td>1</td>\n",
       "      <td>1</td>\n",
       "      <td>1</td>\n",
       "      <td>4000-6000</td>\n",
       "      <td>7000</td>\n",
       "    </tr>\n",
       "    <tr>\n",
       "      <th>4742</th>\n",
       "      <td>301140210</td>\n",
       "      <td>[BS, RA, TS]</td>\n",
       "      <td>Suite</td>\n",
       "      <td>1</td>\n",
       "      <td>0</td>\n",
       "      <td>1</td>\n",
       "      <td>8000-11000</td>\n",
       "      <td>12000</td>\n",
       "    </tr>\n",
       "    <tr>\n",
       "      <th>4743</th>\n",
       "      <td>254207922</td>\n",
       "      <td>[BH, AH, CS]</td>\n",
       "      <td>Apartment</td>\n",
       "      <td>1</td>\n",
       "      <td>1</td>\n",
       "      <td>1</td>\n",
       "      <td>8000-11000</td>\n",
       "      <td>12000</td>\n",
       "    </tr>\n",
       "    <tr>\n",
       "      <th>4744</th>\n",
       "      <td>789732195</td>\n",
       "      <td>[BS, MRS, MH]</td>\n",
       "      <td>Suite</td>\n",
       "      <td>1</td>\n",
       "      <td>1</td>\n",
       "      <td>1</td>\n",
       "      <td>8000-11000</td>\n",
       "      <td>12000</td>\n",
       "    </tr>\n",
       "    <tr>\n",
       "      <th>4745</th>\n",
       "      <td>535840919</td>\n",
       "      <td>[SA, NCA, BH]</td>\n",
       "      <td>Apartment</td>\n",
       "      <td>1</td>\n",
       "      <td>1</td>\n",
       "      <td>1</td>\n",
       "      <td>4000-6000</td>\n",
       "      <td>7000</td>\n",
       "    </tr>\n",
       "  </tbody>\n",
       "</table>\n",
       "<p>4746 rows × 8 columns</p>\n",
       "</div>"
      ],
      "text/plain": [
       "           RUID preferred_hall_ids    preferred_residence_type  \\\n",
       "0     876223223       [MS, AH, BS]                       Suite   \n",
       "1     933972546      [SA, MRS, BS]                       Suite   \n",
       "2     325269449       [BS, WS, RA]                       Suite   \n",
       "3     683623811      [BS, MRS, SA]                   Apartment   \n",
       "4     345819466       [RA, WS, MH]  Traditional Residence Hall   \n",
       "...         ...                ...                         ...   \n",
       "4741  274830953      [BS, NCA, JS]                   Apartment   \n",
       "4742  301140210       [BS, RA, TS]                       Suite   \n",
       "4743  254207922       [BH, AH, CS]                   Apartment   \n",
       "4744  789732195      [BS, MRS, MH]                       Suite   \n",
       "4745  535840919      [SA, NCA, BH]                   Apartment   \n",
       "\n",
       "      is_single_preferred  is_private_bathroom_preferred  \\\n",
       "0                       1                              0   \n",
       "1                       1                              1   \n",
       "2                       1                              0   \n",
       "3                       1                              1   \n",
       "4                       1                              0   \n",
       "...                   ...                            ...   \n",
       "4741                    1                              1   \n",
       "4742                    1                              0   \n",
       "4743                    1                              1   \n",
       "4744                    1                              1   \n",
       "4745                    1                              1   \n",
       "\n",
       "      laundry_availibility preferred_price_range  max_price  \n",
       "0                        1             6000-8000       9000  \n",
       "1                        1             4000-6000       7000  \n",
       "2                        1             4000-6000       7000  \n",
       "3                        1            8000-11000      12000  \n",
       "4                        1            8000-11000      12000  \n",
       "...                    ...                   ...        ...  \n",
       "4741                     1             4000-6000       7000  \n",
       "4742                     1            8000-11000      12000  \n",
       "4743                     1            8000-11000      12000  \n",
       "4744                     1            8000-11000      12000  \n",
       "4745                     1             4000-6000       7000  \n",
       "\n",
       "[4746 rows x 8 columns]"
      ]
     },
     "execution_count": 23,
     "metadata": {},
     "output_type": "execute_result"
    }
   ],
   "source": [
    "ug_student_choices"
   ]
  },
  {
   "cell_type": "code",
   "execution_count": 24,
   "metadata": {},
   "outputs": [
    {
     "data": {
      "text/html": [
       "<div>\n",
       "<style scoped>\n",
       "    .dataframe tbody tr th:only-of-type {\n",
       "        vertical-align: middle;\n",
       "    }\n",
       "\n",
       "    .dataframe tbody tr th {\n",
       "        vertical-align: top;\n",
       "    }\n",
       "\n",
       "    .dataframe thead th {\n",
       "        text-align: right;\n",
       "    }\n",
       "</style>\n",
       "<table border=\"1\" class=\"dataframe\">\n",
       "  <thead>\n",
       "    <tr style=\"text-align: right;\">\n",
       "      <th></th>\n",
       "      <th>RUID</th>\n",
       "      <th>preferred_hall_ids</th>\n",
       "      <th>preferred_residence_type</th>\n",
       "      <th>is_single_preferred</th>\n",
       "      <th>is_private_bathroom_preferred</th>\n",
       "      <th>laundry_availibility</th>\n",
       "      <th>preferred_price_range</th>\n",
       "      <th>max_price</th>\n",
       "    </tr>\n",
       "  </thead>\n",
       "  <tbody>\n",
       "    <tr>\n",
       "      <th>0</th>\n",
       "      <td>682794763</td>\n",
       "      <td>[JA, BA]</td>\n",
       "      <td>Apartment</td>\n",
       "      <td>1</td>\n",
       "      <td>1</td>\n",
       "      <td>1</td>\n",
       "      <td>9000-10500</td>\n",
       "      <td>11500</td>\n",
       "    </tr>\n",
       "    <tr>\n",
       "      <th>1</th>\n",
       "      <td>324336204</td>\n",
       "      <td>[BA, JA]</td>\n",
       "      <td>Apartment</td>\n",
       "      <td>1</td>\n",
       "      <td>0</td>\n",
       "      <td>1</td>\n",
       "      <td>9000-10500</td>\n",
       "      <td>11500</td>\n",
       "    </tr>\n",
       "    <tr>\n",
       "      <th>2</th>\n",
       "      <td>108271793</td>\n",
       "      <td>[BA, JA]</td>\n",
       "      <td>Apartment</td>\n",
       "      <td>1</td>\n",
       "      <td>1</td>\n",
       "      <td>1</td>\n",
       "      <td>9000-10500</td>\n",
       "      <td>11500</td>\n",
       "    </tr>\n",
       "    <tr>\n",
       "      <th>3</th>\n",
       "      <td>141844051</td>\n",
       "      <td>[BA, JA]</td>\n",
       "      <td>Apartment</td>\n",
       "      <td>1</td>\n",
       "      <td>1</td>\n",
       "      <td>1</td>\n",
       "      <td>10500-12000</td>\n",
       "      <td>13000</td>\n",
       "    </tr>\n",
       "    <tr>\n",
       "      <th>4</th>\n",
       "      <td>886530997</td>\n",
       "      <td>[JA, BA]</td>\n",
       "      <td>Apartment</td>\n",
       "      <td>1</td>\n",
       "      <td>1</td>\n",
       "      <td>1</td>\n",
       "      <td>10500-12000</td>\n",
       "      <td>13000</td>\n",
       "    </tr>\n",
       "    <tr>\n",
       "      <th>...</th>\n",
       "      <td>...</td>\n",
       "      <td>...</td>\n",
       "      <td>...</td>\n",
       "      <td>...</td>\n",
       "      <td>...</td>\n",
       "      <td>...</td>\n",
       "      <td>...</td>\n",
       "      <td>...</td>\n",
       "    </tr>\n",
       "    <tr>\n",
       "      <th>579</th>\n",
       "      <td>101797151</td>\n",
       "      <td>[BA, JA]</td>\n",
       "      <td>Apartment</td>\n",
       "      <td>1</td>\n",
       "      <td>1</td>\n",
       "      <td>1</td>\n",
       "      <td>9000-10500</td>\n",
       "      <td>11500</td>\n",
       "    </tr>\n",
       "    <tr>\n",
       "      <th>580</th>\n",
       "      <td>896753673</td>\n",
       "      <td>[BA, JA]</td>\n",
       "      <td>Apartment</td>\n",
       "      <td>1</td>\n",
       "      <td>1</td>\n",
       "      <td>1</td>\n",
       "      <td>10500-12000</td>\n",
       "      <td>13000</td>\n",
       "    </tr>\n",
       "    <tr>\n",
       "      <th>581</th>\n",
       "      <td>155051479</td>\n",
       "      <td>[JA, BA]</td>\n",
       "      <td>Apartment</td>\n",
       "      <td>1</td>\n",
       "      <td>1</td>\n",
       "      <td>1</td>\n",
       "      <td>10500-12000</td>\n",
       "      <td>13000</td>\n",
       "    </tr>\n",
       "    <tr>\n",
       "      <th>582</th>\n",
       "      <td>869555846</td>\n",
       "      <td>[BA, JA]</td>\n",
       "      <td>Apartment</td>\n",
       "      <td>1</td>\n",
       "      <td>1</td>\n",
       "      <td>1</td>\n",
       "      <td>9000-10500</td>\n",
       "      <td>11500</td>\n",
       "    </tr>\n",
       "    <tr>\n",
       "      <th>583</th>\n",
       "      <td>510660783</td>\n",
       "      <td>[BA, JA]</td>\n",
       "      <td>Apartment</td>\n",
       "      <td>1</td>\n",
       "      <td>0</td>\n",
       "      <td>1</td>\n",
       "      <td>9000-10500</td>\n",
       "      <td>11500</td>\n",
       "    </tr>\n",
       "  </tbody>\n",
       "</table>\n",
       "<p>584 rows × 8 columns</p>\n",
       "</div>"
      ],
      "text/plain": [
       "          RUID preferred_hall_ids preferred_residence_type  \\\n",
       "0    682794763           [JA, BA]                Apartment   \n",
       "1    324336204           [BA, JA]                Apartment   \n",
       "2    108271793           [BA, JA]                Apartment   \n",
       "3    141844051           [BA, JA]                Apartment   \n",
       "4    886530997           [JA, BA]                Apartment   \n",
       "..         ...                ...                      ...   \n",
       "579  101797151           [BA, JA]                Apartment   \n",
       "580  896753673           [BA, JA]                Apartment   \n",
       "581  155051479           [JA, BA]                Apartment   \n",
       "582  869555846           [BA, JA]                Apartment   \n",
       "583  510660783           [BA, JA]                Apartment   \n",
       "\n",
       "     is_single_preferred  is_private_bathroom_preferred  laundry_availibility  \\\n",
       "0                      1                              1                     1   \n",
       "1                      1                              0                     1   \n",
       "2                      1                              1                     1   \n",
       "3                      1                              1                     1   \n",
       "4                      1                              1                     1   \n",
       "..                   ...                            ...                   ...   \n",
       "579                    1                              1                     1   \n",
       "580                    1                              1                     1   \n",
       "581                    1                              1                     1   \n",
       "582                    1                              1                     1   \n",
       "583                    1                              0                     1   \n",
       "\n",
       "    preferred_price_range  max_price  \n",
       "0              9000-10500      11500  \n",
       "1              9000-10500      11500  \n",
       "2              9000-10500      11500  \n",
       "3             10500-12000      13000  \n",
       "4             10500-12000      13000  \n",
       "..                    ...        ...  \n",
       "579            9000-10500      11500  \n",
       "580           10500-12000      13000  \n",
       "581           10500-12000      13000  \n",
       "582            9000-10500      11500  \n",
       "583            9000-10500      11500  \n",
       "\n",
       "[584 rows x 8 columns]"
      ]
     },
     "execution_count": 24,
     "metadata": {},
     "output_type": "execute_result"
    }
   ],
   "source": [
    "grad_student_choices"
   ]
  }
 ],
 "metadata": {
  "kernelspec": {
   "display_name": "Python 3.9.6 64-bit",
   "language": "python",
   "name": "python3"
  },
  "language_info": {
   "codemirror_mode": {
    "name": "ipython",
    "version": 3
   },
   "file_extension": ".py",
   "mimetype": "text/x-python",
   "name": "python",
   "nbconvert_exporter": "python",
   "pygments_lexer": "ipython3",
   "version": "3.9.6"
  },
  "orig_nbformat": 4,
  "vscode": {
   "interpreter": {
    "hash": "31f2aee4e71d21fbe5cf8b01ff0e069b9275f58929596ceb00d14d90e3e16cd6"
   }
  }
 },
 "nbformat": 4,
 "nbformat_minor": 2
}
