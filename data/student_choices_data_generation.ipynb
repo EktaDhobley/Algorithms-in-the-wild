{
 "cells": [
  {
   "cell_type": "code",
   "execution_count": 1,
   "metadata": {},
   "outputs": [],
   "source": [
    "import pandas as pd\n",
    "import numpy as np\n",
    "import random\n",
    "from faker import Faker\n",
    "from random import randint"
   ]
  },
  {
   "cell_type": "markdown",
   "metadata": {},
   "source": [
    "### Creating Student Dataset"
   ]
  },
  {
   "cell_type": "code",
   "execution_count": 2,
   "metadata": {},
   "outputs": [],
   "source": [
    "undergrad_min_age, undergrad_max_age = 17,22\n",
    "undergrad_low_income_frac  = 0.3\n",
    "undergrad_accessibility_frac = 0.05\n",
    "\n",
    "undergrad_year_dict = {\n",
    "    'Freshman' : 0.4, \n",
    "    'Sophomore' : 0.3, \n",
    "    'Junior' : 0.2, \n",
    "    'Senior' : 0.1\n",
    "    }\n",
    "\n",
    "undergrad_school_dict = {\n",
    "    'Edward J. Bloustein School of Planning and Public Policy' : 0.05,\n",
    "    'Mason Gross School of the Arts': 0.1,\n",
    "    'Rutgers Business School–Newark and New Brunswick' : 0.1,\n",
    "    'School of Arts and Sciences' : 0.4, #most students(undergrad)\n",
    "    'School of Communication and Information': 0.1,\n",
    "    'School of Engineering': 0.1,\n",
    "    'School of Environmental and Biological Sciences': 0.05,\n",
    "    'School of Management and Labor Relations' : 0.05,\n",
    "    'School of Social Work': 0.05\n",
    "    }"
   ]
  },
  {
   "cell_type": "code",
   "execution_count": 3,
   "metadata": {},
   "outputs": [],
   "source": [
    "grad_year_dict ={\n",
    "    'Masters' : 0.5,\n",
    "    'Doctorate' : 0.4,\n",
    "    'Postdoctoral studies' : 0.1,\n",
    "}\n",
    "\n",
    "grad_school_dict = {\n",
    "    'Graduate School of Applied and Professional Psychology' : 0.1, #grad school\n",
    "    'Graduate School of Education' : 0.2, #grad school\n",
    "    'School of Graduate Studies': 0.7 #mostly grad\n",
    "    }\n",
    "\n",
    "grad_min_age, grad_max_age = 22,28\n",
    "grad_low_income_frac = 0.3\n",
    "grad_accessibility_frac = 0.05"
   ]
  },
  {
   "cell_type": "markdown",
   "metadata": {},
   "source": [
    "#### Analysis before creating the dataset"
   ]
  },
  {
   "cell_type": "code",
   "execution_count": 4,
   "metadata": {},
   "outputs": [],
   "source": [
    "url = 'https://raw.githubusercontent.com/EktaDhobley/Algorithms-in-the-wild/main/data/rooms_data/final_data.csv'\n",
    "rooms_data = pd.read_csv(url, index_col = False)"
   ]
  },
  {
   "cell_type": "code",
   "execution_count": 5,
   "metadata": {},
   "outputs": [],
   "source": [
    "grad_hall_ids = ['BA','JA']"
   ]
  },
  {
   "cell_type": "code",
   "execution_count": 6,
   "metadata": {},
   "outputs": [
    {
     "name": "stdout",
     "output_type": "stream",
     "text": [
      "The number of undergrad students we can house is 4746 \n",
      "The number of graduate students we can house is 584\n"
     ]
    }
   ],
   "source": [
    "#### Getting student count (no of students of each category we can house)\n",
    "ug_rooms_dataset = rooms_data.loc[~rooms_data.hall_id.isin(grad_hall_ids)]\n",
    "grad_rooms_dataset = rooms_data.loc[rooms_data.hall_id.isin(grad_hall_ids)]\n",
    "print(f\"The number of undergrad students we can house is {ug_rooms_dataset.shape[0]} \\nThe number of graduate students we can house is {grad_rooms_dataset.shape[0]}\")"
   ]
  },
  {
   "cell_type": "code",
   "execution_count": 7,
   "metadata": {},
   "outputs": [],
   "source": [
    "#### Looking at the variables of interest among undergrad and gradauate housing\n",
    "variables_of_interest = ['has_laundry','floor_plan', 'residence_type', 'hall_id', 'has_private_bathroom', 'has_accessibility_ramps'] \n",
    "\n",
    "with open('rooms_data/grad_room_summary.txt', 'w') as f:\n",
    "    for x in variables_of_interest:\n",
    "        print(\"-\"*10,x,\"-\"*10, file=f)\n",
    "        print(grad_rooms_dataset[x].value_counts(dropna=False), file=f)\n",
    "        \n",
    "with open('rooms_data/ug_room_summary.txt', 'w') as f:\n",
    "    for x in variables_of_interest:\n",
    "        print(\"-\"*10,x,\"-\"*10, file=f)\n",
    "        print(ug_rooms_dataset[x].value_counts(dropna=False), file=f)"
   ]
  },
  {
   "cell_type": "code",
   "execution_count": 8,
   "metadata": {},
   "outputs": [],
   "source": [
    "def generate_student_dataset(number_of_students, year_dict, school_dict, accessibility_needs_frac, low_income_frac, min_age, max_age):\n",
    "    students = pd.DataFrame()\n",
    "    fake = Faker()\n",
    "    fake_students = [{'RUID':randint(10**(9-1), (10**9)-1),\n",
    "                    'student_profile':fake.profile(fields = ['name','sex']),\n",
    "                    'date_of_birth':fake.date_of_birth(minimum_age = min_age, maximum_age= max_age),\n",
    "                    'student_year':np.random.choice(list(year_dict.keys()), p=list(year_dict.values())),\n",
    "                    'student_school': np.random.choice(list(school_dict.keys()), p=list(school_dict.values()))\n",
    "                    } for x in range(number_of_students)]\n",
    "    student_df = pd.DataFrame(fake_students)\n",
    "    student_df = pd.concat([student_df['student_profile'].apply(pd.Series), student_df.drop(['student_profile'], axis=1)], axis=1)\n",
    "    student_df['accessibility_need'], student_df['low_income_status'] = 0,0\n",
    "    student_df.loc[student_df.sample(frac = accessibility_needs_frac).index,'accessibility_need'] = 1\n",
    "    student_df.loc[student_df.sample(frac = low_income_frac).index,'low_income_status'] = 1\n",
    "    return student_df"
   ]
  },
  {
   "cell_type": "code",
   "execution_count": 9,
   "metadata": {},
   "outputs": [],
   "source": [
    "undergrad_student_dataset = generate_student_dataset(number_of_students=4746, \n",
    "                                                     year_dict=undergrad_year_dict, \n",
    "                                                     school_dict=undergrad_school_dict,\n",
    "                                                     accessibility_needs_frac = undergrad_accessibility_frac, \n",
    "                                                     low_income_frac=undergrad_low_income_frac,\n",
    "                                                     min_age = undergrad_min_age,\n",
    "                                                     max_age = undergrad_max_age)"
   ]
  },
  {
   "cell_type": "code",
   "execution_count": 10,
   "metadata": {},
   "outputs": [],
   "source": [
    "grad_student_dataset = generate_student_dataset(number_of_students=584, \n",
    "                                                     year_dict=grad_year_dict, \n",
    "                                                     school_dict=grad_school_dict,\n",
    "                                                     accessibility_needs_frac = grad_accessibility_frac, \n",
    "                                                     low_income_frac=grad_low_income_frac,\n",
    "                                                     min_age = grad_min_age,\n",
    "                                                     max_age = grad_max_age)"
   ]
  },
  {
   "cell_type": "code",
   "execution_count": 11,
   "metadata": {},
   "outputs": [],
   "source": [
    "def check_valid_dataset(df, min_age, max_age, low_income_frac, accessibility_need_frac):\n",
    "    cond1 = df.duplicated().sum() == 0 #Check if there are any duplicate rows\n",
    "    cond2 = len(set(df['RUID'])) == df.shape[0] #Validate that RUIDs are unqiue\n",
    "    cond3 = all(ele >= min_age and ele <= max_age+1 for ele in list(2022 - pd.DatetimeIndex(df['date_of_birth']).year)) #check age distribution\n",
    "    cond4 = df['accessibility_need'].sum()/df.shape[0] == accessibility_need_frac #Validate accessibility_needs attribute\n",
    "    cond5 = df['low_income_status'].sum()/df.shape[0] == low_income_frac # Validate low_income_frac\n",
    "    display(df['student_year'].value_counts(normalize=True)) #Validate distribution of student_year\n",
    "    display(df['student_school'].value_counts(normalize=True)) #Validate distribution of student_school\n",
    "    if cond1 and cond2 and cond3 and cond4 and cond5:\n",
    "        return True\n",
    "    return False"
   ]
  },
  {
   "cell_type": "code",
   "execution_count": 12,
   "metadata": {},
   "outputs": [
    {
     "data": {
      "text/plain": [
       "Masters                 0.465753\n",
       "Doctorate               0.433219\n",
       "Postdoctoral studies    0.101027\n",
       "Name: student_year, dtype: float64"
      ]
     },
     "metadata": {},
     "output_type": "display_data"
    },
    {
     "data": {
      "text/plain": [
       "School of Graduate Studies                                0.702055\n",
       "Graduate School of Education                              0.200342\n",
       "Graduate School of Applied and Professional Psychology    0.097603\n",
       "Name: student_school, dtype: float64"
      ]
     },
     "metadata": {},
     "output_type": "display_data"
    }
   ],
   "source": [
    "if check_valid_dataset(grad_student_dataset, grad_min_age, grad_max_age, grad_low_income_frac, grad_accessibility_frac):\n",
    "    grad_student_dataset.to_csv('student_data/graduate_students_data.csv', index = False)"
   ]
  },
  {
   "cell_type": "code",
   "execution_count": 13,
   "metadata": {},
   "outputs": [
    {
     "data": {
      "text/plain": [
       "Freshman     0.384324\n",
       "Sophomore    0.308681\n",
       "Junior       0.205436\n",
       "Senior       0.101559\n",
       "Name: student_year, dtype: float64"
      ]
     },
     "metadata": {},
     "output_type": "display_data"
    },
    {
     "data": {
      "text/plain": [
       "School of Arts and Sciences                                 0.410662\n",
       "Rutgers Business School–Newark and New Brunswick            0.103245\n",
       "Mason Gross School of the Arts                              0.103245\n",
       "School of Communication and Information                     0.097345\n",
       "School of Engineering                                       0.093131\n",
       "School of Management and Labor Relations                    0.053519\n",
       "School of Environmental and Biological Sciences             0.048251\n",
       "Edward J. Bloustein School of Planning and Public Policy    0.046566\n",
       "School of Social Work                                       0.044037\n",
       "Name: student_school, dtype: float64"
      ]
     },
     "metadata": {},
     "output_type": "display_data"
    }
   ],
   "source": [
    "if check_valid_dataset(undergrad_student_dataset, undergrad_min_age, undergrad_max_age, undergrad_low_income_frac, undergrad_accessibility_frac):\n",
    "    undergrad_student_dataset.to_csv('student_data/undergrad_student_data.csv', index = False)"
   ]
  },
  {
   "cell_type": "markdown",
   "metadata": {},
   "source": [
    "### Generate Choices Dataset"
   ]
  },
  {
   "cell_type": "code",
   "execution_count": 14,
   "metadata": {},
   "outputs": [],
   "source": [
    "ug_hall_pref = rooms_data.loc[~rooms_data['hall_id'].isin(grad_hall_ids)]['hall_id'].value_counts(normalize=True, dropna=False).to_dict()\n",
    "# ug_price_pref = rooms_data.loc[~rooms_data['hall_id'].isin(grad_hall_ids)]['price'].value_counts(bins = 3, dropna=False, normalize = True).to_dict()\n",
    "ug_residence_pref = rooms_data.loc[~rooms_data['hall_id'].isin(grad_hall_ids)]['residence_type'].value_counts(dropna=False, normalize = True).to_dict()\n",
    "ug_price_pref = {'4000-6000': 0.5,'6000-8000' : 0.20,'8000-11000': 0.3}"
   ]
  },
  {
   "cell_type": "code",
   "execution_count": 15,
   "metadata": {},
   "outputs": [],
   "source": [
    "grad_hall_pref = rooms_data.loc[rooms_data['hall_id'].isin(grad_hall_ids)]['hall_id'].value_counts(normalize=True, dropna=False).to_dict()\n",
    "# grad_price_pref = rooms_data.loc[rooms_data['hall_id'].isin(grad_hall_ids)]['price'].value_counts(bins = 2, dropna=False, normalize=True).to_dict()\n",
    "grad_residence_pref = rooms_data.loc[rooms_data['hall_id'].isin(grad_hall_ids)]['residence_type'].value_counts(dropna=False, normalize = True).to_dict()\n",
    "grad_price_pref = {'8000-10500': 0.6,'10500-12000': 0.4}"
   ]
  },
  {
   "cell_type": "code",
   "execution_count": 21,
   "metadata": {},
   "outputs": [],
   "source": [
    "# Code to creat choices for each student\n",
    "def generate_dataset(df, hall_pref, price_pref, residence_pref, undergrad = False):\n",
    "    n_choices = 3 if undergrad else 2\n",
    "    fake_choices = [{\n",
    "        'RUID':ruid,\n",
    "        'preferred_hall_ids':np.random.choice(list(hall_pref.keys()), n_choices, p=list(hall_pref.values()), replace=False),\n",
    "        'preferred_residence_type' : np.random.choice(list(residence_pref.keys()), p=list(residence_pref.values())),\n",
    "        'is_single_preferred' : np.random.choice([0,1], p=[0,1]),\n",
    "        'is_private_bathroom_preferred' : np.random.choice([0,1], p=[0.1,0.9]),\n",
    "        'laundry_availibility':np.random.choice([0,1], p=[0.05,0.95]),\n",
    "        'preferred_price_range' : np.random.choice(list(price_pref.keys()), p=list(price_pref.values())),\n",
    "        } for ruid in df['RUID']]\n",
    "    student_choices = pd.DataFrame(fake_choices)\n",
    "    student_data = df.merge(student_choices, on = \"RUID\")\n",
    "    student_data['max_price'] = student_data.apply(lambda row: int(row.preferred_price_range.split('-')[1]) - row.low_income_status*1000, axis=1)\n",
    "    return student_data"
   ]
  },
  {
   "cell_type": "code",
   "execution_count": 22,
   "metadata": {},
   "outputs": [],
   "source": [
    "grad_student_merged_data = generate_dataset(grad_student_dataset, grad_hall_pref, grad_price_pref, grad_residence_pref)\n",
    "ug_student_merged_data = generate_dataset(undergrad_student_dataset, ug_hall_pref, ug_price_pref, ug_residence_pref, undergrad=True)"
   ]
  },
  {
   "cell_type": "code",
   "execution_count": 23,
   "metadata": {},
   "outputs": [],
   "source": [
    "final_data = pd.concat([ug_student_merged_data,grad_student_merged_data], ignore_index=True) "
   ]
  },
  {
   "cell_type": "code",
   "execution_count": 27,
   "metadata": {},
   "outputs": [],
   "source": [
    "final_data.to_csv('student_data/final_student_merged_data.csv')"
   ]
  }
 ],
 "metadata": {
  "kernelspec": {
   "display_name": "Python 3.9.6 64-bit",
   "language": "python",
   "name": "python3"
  },
  "language_info": {
   "codemirror_mode": {
    "name": "ipython",
    "version": 3
   },
   "file_extension": ".py",
   "mimetype": "text/x-python",
   "name": "python",
   "nbconvert_exporter": "python",
   "pygments_lexer": "ipython3",
   "version": "3.9.6"
  },
  "orig_nbformat": 4,
  "vscode": {
   "interpreter": {
    "hash": "31f2aee4e71d21fbe5cf8b01ff0e069b9275f58929596ceb00d14d90e3e16cd6"
   }
  }
 },
 "nbformat": 4,
 "nbformat_minor": 2
}
