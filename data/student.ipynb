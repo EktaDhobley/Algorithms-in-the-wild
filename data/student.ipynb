{
 "cells": [
  {
   "cell_type": "code",
   "execution_count": 1,
   "metadata": {},
   "outputs": [],
   "source": [
    "# This notebook contains the code used to generate students dataset, if needed can be easily translated to a scipt where parameters can be entered to generate different versions of the datasets"
   ]
  },
  {
   "cell_type": "code",
   "execution_count": 2,
   "metadata": {},
   "outputs": [],
   "source": [
    "import pandas as pd\n",
    "import numpy as np\n",
    "import random\n",
    "from faker import Faker\n",
    "from random import randint"
   ]
  },
  {
   "cell_type": "code",
   "execution_count": 3,
   "metadata": {},
   "outputs": [],
   "source": [
    "year_dict = {'Freshman' : 0.25, 'Sophmore' : 0.25, 'Junior' : 0.25, 'Senior' : 0.25}\n",
    "\n",
    "school_dict = {'Edward J. Bloustein School of Planning and Public Policy' : 0.1,\n",
    "               'Graduate School of Applied and Professional Psychology' : 0.1,\n",
    "               'Graduate School of Education' : 0.1,\n",
    "               'Mason Gross School of the Arts': 0.1,\n",
    "               'Rutgers Business School–Newark and New Brunswick' : 0.1,\n",
    "               'School of Arts and Sciences' : 0.1,\n",
    "               'School of Communication and Information': 0.1,\n",
    "               'School of Engineering': 0.1,\n",
    "               'School of Environmental and Biological Sciences': 0.1,\n",
    "               'School of Graduate Studies': 0.1\n",
    "               }\n",
    "\n",
    "degree_dict = {}"
   ]
  },
  {
   "cell_type": "code",
   "execution_count": 4,
   "metadata": {},
   "outputs": [],
   "source": [
    "def generate_student_dataset(number_of_students, year_dict, school_dict, accessibility_needs_frac, low_income_frac):\n",
    "    students = pd.DataFrame()\n",
    "    fake = Faker()\n",
    "    Faker.seed(4833)\n",
    "    fake_students = [{'RUID':randint(10**(9-1), (10**9)-1),\n",
    "                    'student_profile':fake.profile(fields = ['name','sex']),\n",
    "                    'date_of_birth':fake.date_of_birth(minimum_age = 17, maximum_age= 22),\n",
    "                    'student_year':np.random.choice(list(year_dict.keys()), p=list(year_dict.values())),\n",
    "                    'student_school': np.random.choice(list(school_dict.keys()), p=list(school_dict.values()))\n",
    "                    } for x in range(number_of_students)]\n",
    "    student_df = pd.DataFrame(fake_students)\n",
    "    student_df = pd.concat([student_df['student_profile'].apply(pd.Series), student_df.drop(['student_profile'], axis=1)], axis=1)\n",
    "    student_df['accessibility_need'], student_df['low_income_status'] = 0,0\n",
    "    student_df.loc[student_df.sample(frac = accessibility_needs_frac).index,'accessibility_need'] = 1\n",
    "    student_df.loc[student_df.sample(frac = low_income_frac).index,'low_income_status'] = 1\n",
    "    return student_df"
   ]
  },
  {
   "cell_type": "code",
   "execution_count": 5,
   "metadata": {},
   "outputs": [],
   "source": [
    "dummy_data = generate_student_dataset(5000, year_dict=year_dict, school_dict=school_dict,accessibility_needs_frac = 0.05, low_income_frac=0.01)"
   ]
  },
  {
   "cell_type": "code",
   "execution_count": 6,
   "metadata": {},
   "outputs": [
    {
     "data": {
      "text/plain": [
       "True"
      ]
     },
     "execution_count": 6,
     "metadata": {},
     "output_type": "execute_result"
    }
   ],
   "source": [
    "#Check if there are any duplicate rows\n",
    "dummy_data.duplicated().sum() == 0"
   ]
  },
  {
   "cell_type": "code",
   "execution_count": 7,
   "metadata": {},
   "outputs": [
    {
     "data": {
      "text/plain": [
       "True"
      ]
     },
     "execution_count": 7,
     "metadata": {},
     "output_type": "execute_result"
    }
   ],
   "source": [
    "#Validate that RUIDs are unqiue\n",
    "len(set(dummy_data['RUID'])) == dummy_data.shape[0]"
   ]
  },
  {
   "cell_type": "code",
   "execution_count": 8,
   "metadata": {},
   "outputs": [
    {
     "data": {
      "text/plain": [
       "True"
      ]
     },
     "execution_count": 8,
     "metadata": {},
     "output_type": "execute_result"
    }
   ],
   "source": [
    "#Validae the distribution of date_of_birth\n",
    "all(ele >= 17 and ele <= 23 for ele in list(2022 - pd.DatetimeIndex(dummy_data['date_of_birth']).year))"
   ]
  },
  {
   "cell_type": "code",
   "execution_count": 9,
   "metadata": {},
   "outputs": [
    {
     "data": {
      "text/plain": [
       "Freshman    0.2550\n",
       "Sophmore    0.2544\n",
       "Junior      0.2496\n",
       "Senior      0.2410\n",
       "Name: student_year, dtype: float64"
      ]
     },
     "execution_count": 9,
     "metadata": {},
     "output_type": "execute_result"
    }
   ],
   "source": [
    "#Validate distribution of student_year\n",
    "dummy_data['student_year'].value_counts(normalize=True)"
   ]
  },
  {
   "cell_type": "code",
   "execution_count": 10,
   "metadata": {},
   "outputs": [
    {
     "data": {
      "text/plain": [
       "School of Engineering                                       0.1056\n",
       "School of Environmental and Biological Sciences             0.1050\n",
       "Graduate School of Education                                0.1038\n",
       "Mason Gross School of the Arts                              0.1028\n",
       "Edward J. Bloustein School of Planning and Public Policy    0.1016\n",
       "School of Arts and Sciences                                 0.1006\n",
       "School of Graduate Studies                                  0.0982\n",
       "School of Communication and Information                     0.0972\n",
       "Rutgers Business School–Newark and New Brunswick            0.0958\n",
       "Graduate School of Applied and Professional Psychology      0.0894\n",
       "Name: student_school, dtype: float64"
      ]
     },
     "execution_count": 10,
     "metadata": {},
     "output_type": "execute_result"
    }
   ],
   "source": [
    "#Validate distribution of student_school\n",
    "dummy_data['student_school'].value_counts(normalize=True)"
   ]
  },
  {
   "cell_type": "code",
   "execution_count": 11,
   "metadata": {},
   "outputs": [
    {
     "data": {
      "text/plain": [
       "True"
      ]
     },
     "execution_count": 11,
     "metadata": {},
     "output_type": "execute_result"
    }
   ],
   "source": [
    "#Validate accessibility_needs attribute\n",
    "dummy_data['accessibility_need'].sum()/dummy_data.shape[0] == 0.05"
   ]
  },
  {
   "cell_type": "code",
   "execution_count": 12,
   "metadata": {},
   "outputs": [
    {
     "data": {
      "text/plain": [
       "True"
      ]
     },
     "execution_count": 12,
     "metadata": {},
     "output_type": "execute_result"
    }
   ],
   "source": [
    "#Validate low_income_status attribute\n",
    "dummy_data['low_income_status'].sum()/dummy_data.shape[0] == 0.01"
   ]
  },
  {
   "cell_type": "code",
   "execution_count": 13,
   "metadata": {},
   "outputs": [],
   "source": [
    "dummy_data.to_csv('students_dummy_data.csv', index = False)"
   ]
  }
 ],
 "metadata": {
  "kernelspec": {
   "display_name": "Python 3.9.6 64-bit",
   "language": "python",
   "name": "python3"
  },
  "language_info": {
   "codemirror_mode": {
    "name": "ipython",
    "version": 3
   },
   "file_extension": ".py",
   "mimetype": "text/x-python",
   "name": "python",
   "nbconvert_exporter": "python",
   "pygments_lexer": "ipython3",
   "version": "3.9.6"
  },
  "orig_nbformat": 4,
  "vscode": {
   "interpreter": {
    "hash": "31f2aee4e71d21fbe5cf8b01ff0e069b9275f58929596ceb00d14d90e3e16cd6"
   }
  }
 },
 "nbformat": 4,
 "nbformat_minor": 2
}
